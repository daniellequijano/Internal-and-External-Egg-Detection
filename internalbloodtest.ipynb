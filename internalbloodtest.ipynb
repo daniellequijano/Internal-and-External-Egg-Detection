{
 "cells": [
  {
   "cell_type": "code",
   "execution_count": 2,
   "metadata": {},
   "outputs": [
    {
     "name": "stdout",
     "output_type": "stream",
     "text": [
      "169.5\n"
     ]
    },
    {
     "data": {
      "text/plain": [
       "51"
      ]
     },
     "execution_count": 2,
     "metadata": {},
     "output_type": "execute_result"
    }
   ],
   "source": [
    "import sys\n",
    "import os\n",
    "import matplotlib.pyplot as plt\n",
    "     \n",
    "\n",
    "\n",
    "import numpy as np\n",
    "import cv2\n",
    "import time\n",
    "import psutil\n",
    "import matplotlib.pyplot as plt\n",
    "\n",
    "frame = cv2.imread('IN1.png',1)\n",
    "hsv = cv2.cvtColor(frame, cv2.COLOR_BGR2HSV)\n",
    "imag = cv2.medianBlur(hsv, 3)  #27\n",
    "grey = imag[:,:,2]\n",
    "\n",
    "\n",
    "kernelbloodErosion = np.ones((5,5),np.uint8)\n",
    "erosionblood = cv2.erode(grey,kernelbloodErosion,iterations = 1)\n",
    "\n",
    "thblood = cv2.adaptiveThreshold(erosionblood, 255, cv2.ADAPTIVE_THRESH_GAUSSIAN_C, cv2.THRESH_BINARY , 115, 1)\n",
    "            \n",
    "kernelblood = cv2.getStructuringElement(cv2.MORPH_ELLIPSE, (5, 5))\n",
    "yolkblood = cv2.morphologyEx(thblood, cv2.MORPH_CLOSE, kernelblood)\n",
    "inv_img = ~yolkblood\n",
    "\n",
    "\n",
    "\n",
    "\n",
    "_, contours1, _ = cv2.findContours(yolkblood , cv2.RETR_TREE, cv2.CHAIN_APPROX_NONE)\n",
    "\n",
    "\n",
    "for contour in contours1:\n",
    "\n",
    "                #count_blood +=1\n",
    "    area = cv2.contourArea(contour)\n",
    "    x,y,w,h = cv2.boundingRect(contour)\n",
    "    comparea = area\n",
    "    if area > 450 and area < 510:\n",
    "\n",
    "        cv2.rectangle(frame,(x,y),(x+w,y+h),(255,0,0),1)\n",
    "        cv2.putText(frame, 'BloodSpot Found: Area='+str(comparea), (x, y), cv2.FONT_HERSHEY_PLAIN, 0.7, (255, 0, 1),1)\n",
    "                    \n",
    "print(area) \n",
    "#cv2.imshow('Yolk Viewer',yolk)\n",
    "cv2.imshow('Original',frame)\n",
    "#cv2.imshow('gray',grey)\n",
    "#cv2.imshow('inv',inv_img)\n",
    "\n",
    "\n",
    "k = cv2.waitKey(30) & 0xff\n",
    "\n",
    "if k == 27: # press 'ESC' to quit\n",
    "    \n",
    "\n",
    "    cv2.destroyAllWindows()\n",
    "    cv2.waitKey(0)\n",
    "\n",
    "cv2.waitKey(0)\n",
    "\n",
    "\n",
    "\n",
    "\n"
   ]
  },
  {
   "cell_type": "code",
   "execution_count": null,
   "metadata": {},
   "outputs": [],
   "source": []
  },
  {
   "cell_type": "code",
   "execution_count": null,
   "metadata": {},
   "outputs": [],
   "source": []
  }
 ],
 "metadata": {
  "kernelspec": {
   "display_name": "Python 3",
   "language": "python",
   "name": "python3"
  },
  "language_info": {
   "codemirror_mode": {
    "name": "ipython",
    "version": 3
   },
   "file_extension": ".py",
   "mimetype": "text/x-python",
   "name": "python",
   "nbconvert_exporter": "python",
   "pygments_lexer": "ipython3",
   "version": "3.7.2"
  }
 },
 "nbformat": 4,
 "nbformat_minor": 2
}
